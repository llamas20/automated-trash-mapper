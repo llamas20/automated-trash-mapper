{
 "cells": [
  {
   "cell_type": "markdown",
   "metadata": {},
   "source": [
    "## Import Libraries"
   ]
  },
  {
   "cell_type": "code",
   "execution_count": null,
   "metadata": {},
   "outputs": [],
   "source": [
    "import networkx as nx\n",
    "import matplotlib.pyplot as plt\n",
    "import numpy as np\n",
    "import random\n",
    "from time import sleep\n",
    "from IPython.display import clear_output"
   ]
  },
  {
   "cell_type": "markdown",
   "metadata": {},
   "source": [
    "## Import Custom Libraries"
   ]
  },
  {
   "cell_type": "code",
   "execution_count": null,
   "metadata": {},
   "outputs": [],
   "source": [
    "from map import CustomGraph\n",
    "from agent import Agent\n",
    "from agentTerritoryOrchestrator import AgentTerritoryOrchestrator"
   ]
  },
  {
   "cell_type": "markdown",
   "metadata": {},
   "source": [
    "## Create a Graph"
   ]
  },
  {
   "cell_type": "code",
   "execution_count": null,
   "metadata": {},
   "outputs": [],
   "source": [
    "# Example usage\n",
    "graph = CustomGraph()\n",
    "graph.build_a_map()\n",
    "# Draw the graph\n",
    "#graph.draw_graph()\n"
   ]
  },
  {
   "cell_type": "markdown",
   "metadata": {},
   "source": [
    "## Initialize Agents Territory Ochestrator"
   ]
  },
  {
   "cell_type": "code",
   "execution_count": null,
   "metadata": {},
   "outputs": [],
   "source": [
    "number_of_agents = 3\n",
    "hub_node = 1\n",
    "System = AgentTerritoryOrchestrator(graph, number_of_agents, hub_node)"
   ]
  },
  {
   "cell_type": "markdown",
   "metadata": {},
   "source": [
    "## Map Builder"
   ]
  },
  {
   "cell_type": "code",
   "execution_count": null,
   "metadata": {},
   "outputs": [],
   "source": [
    "def draw_graph_with_agent(graph, agents, step_time=0.1):\n",
    "    \"\"\"Draw the graph with node positions, edge weights, targets, and agents\"\"\"\n",
    "    #plt.clf()  # Clear the current figure\n",
    "    plt.figure(figsize=(12, 12))\n",
    "\n",
    "    if not graph.positions:\n",
    "        graph.positions = nx.spring_layout(graph.G, k=0.1, iterations=50)\n",
    "\n",
    "    # Draw nodes\n",
    "    nx.draw(graph.G, graph.positions, with_labels=True, node_color='lightblue', node_size=50, font_size=10)\n",
    "\n",
    "    # Edge colors based on weight (1=blue, 10=red)\n",
    "    edge_colors = []\n",
    "    edge_weights = [graph.G[u][v]['weight'] for u, v in graph.G.edges()]\n",
    "    for weight in edge_weights:\n",
    "        color = plt.cm.coolwarm((weight - 1) / 9)  # Color scale from blue to red\n",
    "        edge_colors.append(color)\n",
    "\n",
    "    # Draw edges with color coordinated by weight\n",
    "    nx.draw_networkx_edges(graph.G, graph.positions, edge_color=edge_colors, width=1)\n",
    "\n",
    "    # Draw edge labels with weights\n",
    "    edge_labels = {(u, v): f\"W:{graph.G[u][v]['weight']},T:{graph.G[u][v]['targets']} \" for u, v in graph.G.edges()}\n",
    "    nx.draw_networkx_edge_labels(graph.G, graph.positions, edge_labels=edge_labels)\n",
    "    \n",
    "    # Draw targets on edges (red icons with size proportional to targets)\n",
    "    for (u, v) in graph.G.edges():\n",
    "        targets = graph.G[u][v]['targets']\n",
    "        if targets > 0:\n",
    "            midpoint = np.mean([graph.positions[u], graph.positions[v]], axis=0)\n",
    "            plt.scatter(midpoint[0], midpoint[1], s=targets * 100, c='red', alpha=0.7)  # Size scales with targets\n",
    "\n",
    "\n",
    "    # Draw agents on the map as red dots\n",
    "    for agent in agents:\n",
    "        agent_pos = graph.positions[agent.current_node]\n",
    "        plt.scatter(agent_pos[0], agent_pos[1], s=300, c='green', edgecolors='black', label=f'Agent @ {agent.current_node}')\n",
    "\n",
    "    plt.legend(loc='upper right')\n",
    "    plt.pause(step_time)  # Pause to display the plot for a moment before clearing it\n"
   ]
  },
  {
   "cell_type": "markdown",
   "metadata": {},
   "source": [
    "# Simulator"
   ]
  },
  {
   "cell_type": "code",
   "execution_count": null,
   "metadata": {},
   "outputs": [],
   "source": [
    "#initialize map??\n",
    "step_time = 0.0\n",
    "for step in range(1000):\n",
    "    draw_graph_with_agent(graph, System.agents)\n",
    "\n",
    "    System.step() #incriment the agent territory orchestrator\n",
    "    \n",
    "    #graph.update_map()\n",
    "    sleep(step_time)\n",
    "    clear_output(wait=True)  # Clear previous output in the notebook window"
   ]
  },
  {
   "cell_type": "code",
   "execution_count": null,
   "metadata": {},
   "outputs": [],
   "source": []
  }
 ],
 "metadata": {
  "kernelspec": {
   "display_name": ".venv",
   "language": "python",
   "name": "python3"
  },
  "language_info": {
   "codemirror_mode": {
    "name": "ipython",
    "version": 3
   },
   "file_extension": ".py",
   "mimetype": "text/x-python",
   "name": "python",
   "nbconvert_exporter": "python",
   "pygments_lexer": "ipython3",
   "version": "3.11.9"
  }
 },
 "nbformat": 4,
 "nbformat_minor": 4
}
